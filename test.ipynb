{
 "cells": [
  {
   "cell_type": "code",
   "execution_count": 1,
   "metadata": {
    "collapsed": true
   },
   "outputs": [],
   "source": [
    "from selenium import webdriver\n",
    "from selenium.webdriver import ChromeOptions\n",
    "from helium import *\n",
    "from time import sleep"
   ]
  },
  {
   "cell_type": "code",
   "execution_count": 2,
   "outputs": [],
   "source": [
    "class DouDian:\n",
    "    def __init__(self):\n",
    "        self.url = 'https://buyin.jinritemai.com/mpa/account/login?log_out=1&type=24'\n",
    "        self.option = ChromeOptions()\n",
    "        self.option.add_experimental_option('excludeSwitches', ['enable-automation'])\n",
    "        self.option.add_argument('--start-maximized')\n",
    "        # self.option.opt_binary_location=r\"D:\\RunningCheeseChrome_V96.0_XiTongZhiJia\\RunningCheeseChrome\\App\\chrome.exe\"\n",
    "        self.option.add_experimental_option('useAutomationExtension', False)\n",
    "        self.driver = webdriver.Chrome(options=self.option, executable_path='./chromedriver.exe')\n",
    "        set_driver(self.driver)\n",
    "\n",
    "    def open_live_central(self):\n",
    "        go_to(self.url)\n",
    "        sleep(60)\n",
    "\n",
    "    def fudai(self):\n",
    "        print(time.asctime())\n",
    "        if Button('添加商品').exists() is False:\n",
    "            go_to('https://buyin.jinritemai.com/dashboard/live/control')\n",
    "            while Text('直播工具').exists() is False:\n",
    "                sleep(1)\n",
    "        sleep(2)\n",
    "        click(find_all(S('.index-module__tool___2qYVz'))[1])\n",
    "        sleep(1)\n",
    "        click(S('.auxo-select-selector'))\n",
    "        sleep(0.5)\n",
    "        click('活动待开始')\n",
    "        sleep(0.5)\n",
    "        click(Button('查询'))\n",
    "        sleep(1)\n",
    "        click(Button('开始活动'))\n",
    "        print(time.asctime())\n"
   ],
   "metadata": {
    "collapsed": false,
    "pycharm": {
     "name": "#%%\n"
    }
   }
  },
  {
   "cell_type": "code",
   "execution_count": 3,
   "outputs": [],
   "source": [
    "aa = DouDian()\n",
    "aa.open_live_central()"
   ],
   "metadata": {
    "collapsed": false,
    "pycharm": {
     "name": "#%%\n"
    }
   }
  },
  {
   "cell_type": "code",
   "execution_count": 34,
   "outputs": [],
   "source": [
    "driver = aa.driver\n",
    "set_driver(driver)"
   ],
   "metadata": {
    "collapsed": false,
    "pycharm": {
     "name": "#%%\n"
    }
   }
  },
  {
   "cell_type": "code",
   "execution_count": 10,
   "outputs": [],
   "source": [
    "go_to('https://buyin.jinritemai.com/dashboard/live/control')\n",
    "click(S('index-module__tool___2qYVz'))"
   ],
   "metadata": {
    "collapsed": false,
    "pycharm": {
     "name": "#%%\n"
    }
   }
  },
  {
   "cell_type": "code",
   "execution_count": 15,
   "outputs": [],
   "source": [
    "click(find_all(S('.index-module__tool___2qYVz'))[1])\n"
   ],
   "metadata": {
    "collapsed": false,
    "pycharm": {
     "name": "#%%\n"
    }
   }
  },
  {
   "cell_type": "markdown",
   "source": [],
   "metadata": {
    "collapsed": false
   }
  },
  {
   "cell_type": "code",
   "execution_count": 20,
   "outputs": [],
   "source": [
    "click(S('.auxo-select-selector'))"
   ],
   "metadata": {
    "collapsed": false,
    "pycharm": {
     "name": "#%%\n"
    }
   }
  },
  {
   "cell_type": "code",
   "execution_count": 22,
   "outputs": [],
   "source": [
    "click('活动待开始')"
   ],
   "metadata": {
    "collapsed": false,
    "pycharm": {
     "name": "#%%\n"
    }
   }
  },
  {
   "cell_type": "code",
   "execution_count": 25,
   "outputs": [],
   "source": [
    "click(Button('查询'))"
   ],
   "metadata": {
    "collapsed": false,
    "pycharm": {
     "name": "#%%\n"
    }
   }
  },
  {
   "cell_type": "code",
   "execution_count": 28,
   "outputs": [],
   "source": [
    "click(Button('开始活动'))d\n"
   ],
   "metadata": {
    "collapsed": false,
    "pycharm": {
     "name": "#%%\n"
    }
   }
  },
  {
   "cell_type": "code",
   "execution_count": 53,
   "outputs": [
    {
     "name": "stdout",
     "output_type": "stream",
     "text": [
      "Tue Aug 16 21:06:51 2022\n",
      "Tue Aug 16 21:07:06 2022\n"
     ]
    }
   ],
   "source": [
    "import time\n",
    "def fudai():\n",
    "    print(time.asctime())\n",
    "    if Button('添加商品').exists() is False:\n",
    "        go_to('https://buyin.jinritemai.com/dashboard/live/control')\n",
    "        while Text('直播工具').exists() is False:\n",
    "            sleep(1)\n",
    "    sleep(2)\n",
    "    click(find_all(S('.index-module__tool___2qYVz'))[1])\n",
    "    sleep(1)\n",
    "    click(S('.auxo-select-selector'))\n",
    "    sleep(0.5)\n",
    "    click('活动待开始')\n",
    "    sleep(0.5)\n",
    "    click(Button('查询'))\n",
    "    sleep(1)\n",
    "    click(Button('开始活动'))\n",
    "    print(time.asctime())\n",
    "fudai()\n"
   ],
   "metadata": {
    "collapsed": false,
    "pycharm": {
     "name": "#%%\n"
    }
   }
  }
 ],
 "metadata": {
  "kernelspec": {
   "display_name": "Python 3",
   "language": "python",
   "name": "python3"
  },
  "language_info": {
   "codemirror_mode": {
    "name": "ipython",
    "version": 2
   },
   "file_extension": ".py",
   "mimetype": "text/x-python",
   "name": "python",
   "nbconvert_exporter": "python",
   "pygments_lexer": "ipython2",
   "version": "2.7.6"
  }
 },
 "nbformat": 4,
 "nbformat_minor": 0
}